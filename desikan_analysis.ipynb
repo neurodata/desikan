{
 "cells": [
  {
   "cell_type": "markdown",
   "metadata": {},
   "source": [
    "# Desikan Atlas\n",
    "\n",
    "The Desikan parcellation is a cortical atlas with 68 regions, evenly spread across the left and right hemispheres [1]. It was originally developed as a surface atlas, and is made available through Freesurfer. However, when performing volumetric analysis, such a surface atlas is not useable. To remedy this, we have converted the Desikan parcellation to a surface atlas. We have also added two regions - region numbers 1 and 36, which fill the white matter space near the corpus collosum in each hemisphere.\n",
    "\n",
    "[1]: http://www.sciencedirect.com/science/article/pii/S1053811906000437\n",
    "\n",
    "## Purpose of this notebook\n",
    "\n",
    "The Desikan volumetric atlas was created several years ago, and as tools and pipelines have since changed, oversights in how this conversion process was performed have been detected. As such, there have been several iterations of trying to correct this atlas, some appearing successful in some ways but not in others, and now many copies exist with different properties. This notebook will investigate all known copies of the Desikan volumetric atlas, and evaluate which copy of the atlas - whether existing prior to this notebook or not - should be used in future."
   ]
  },
  {
   "cell_type": "markdown",
   "metadata": {},
   "source": [
    "### Step 1: Get summary information\n",
    "\n",
    "#### Step 1.1: Load template & atlases"
   ]
  },
  {
   "cell_type": "code",
   "execution_count": 1,
   "metadata": {
    "collapsed": false
   },
   "outputs": [
    {
     "name": "stdout",
     "output_type": "stream",
     "text": [
      "desikans\n",
      "  1: ./data/desikan_labels/brainstore_MR_atlases/parcellations/desikan.nii.gz\n",
      "  2: ./data/desikan_labels/brainstore_MR_atlases/parcellations/ingested/desikan.nii.gz\n",
      "  3: ./data/desikan_labels/brainstore_MR_atlases/parcellations/raw/desikan.nii.gz\n",
      "  4: ./data/desikan_labels/brainstore_MR_atlases/parcellations/raw/desikan_correct.nii.gz\n",
      "  5: ./data/desikan_labels/brainstore_mrocp_data_share_atlases/labels/desikan.nii.gz\n"
     ]
    }
   ],
   "source": [
    "# Set list of filenames\n",
    "MNI152_fname = './data/MNI152/MNI152_T1_1mm_brain_mask.nii.gz'\n",
    "desikan_fnames = ['./data/desikan_labels/brainstore_MR_atlases/parcellations/desikan.nii.gz',\n",
    "                  './data/desikan_labels/brainstore_MR_atlases/parcellations/ingested/desikan.nii.gz',\n",
    "                  './data/desikan_labels/brainstore_MR_atlases/parcellations/raw/desikan.nii.gz',\n",
    "                  './data/desikan_labels/brainstore_MR_atlases/parcellations/raw/desikan_correct.nii.gz',\n",
    "                  './data/desikan_labels/brainstore_mrocp_data_share_atlases/labels/desikan.nii.gz']\n",
    "\n",
    "# Load images\n",
    "import nibabel as nb\n",
    "MNI152 = nb.load(MNI152_fname)\n",
    "desikans = {idx+1:nb.load(fnames) for idx, fnames in enumerate(desikan_fnames)}\n",
    "\n",
    "# Print reference info\n",
    "print(\"desikans\")\n",
    "print(\"  \"+\"\\n  \".join([str(idx+1)+': '+fnames for idx, fnames in enumerate(desikan_fnames)]))"
   ]
  },
  {
   "cell_type": "markdown",
   "metadata": {},
   "source": [
    "#### Step 1.2: Get basic info about atlases"
   ]
  },
  {
   "cell_type": "code",
   "execution_count": 2,
   "metadata": {
    "collapsed": false
   },
   "outputs": [
    {
     "name": "stdout",
     "output_type": "stream",
     "text": [
      "shape\n",
      "  1: (182, 218, 182)\n",
      "  2: (182, 218, 182)\n",
      "  3: (182, 218, 182)\n",
      "  4: (182, 218, 182)\n",
      "  5: (182, 218, 182)\n",
      "\n",
      "nrois\n",
      "  1: 71\n",
      "  2: 71\n",
      "  3: 71\n",
      "  4: 71\n",
      "  5: 71\n",
      "\n",
      "roi_range\n",
      "  1: 1174405120\n",
      "  2: 70\n",
      "  3: 135\n",
      "  4: 135\n",
      "  5: 135\n",
      "\n",
      "roi_range\n",
      "  1: int32\n",
      "  2: >i4\n",
      "  3: >i4\n",
      "  4: >i4\n",
      "  5: >i4\n"
     ]
    }
   ],
   "source": [
    "ims = {ky:desikans[ky].get_data() for ky in desikans.keys()}\n",
    "# Get atlas shapes\n",
    "\n",
    "shapes = {ky:ims[ky].shape for ky in ims.keys()}\n",
    "print(\"shape\")\n",
    "print(\"  \"+\"\\n  \".join([str(ky)+': '+str(shapes[ky]) for ky in shapes.keys()]))\n",
    "\n",
    "\n",
    "import numpy as np\n",
    "\n",
    "# Get number of atlas regions (+ background)\n",
    "nrois = {ky:len(np.unique(ims[ky])) for ky in ims.keys()}\n",
    "print(\"\\nnrois\")\n",
    "print(\"  \"+\"\\n  \".join([str(ky)+': '+str(nrois[ky]) for ky in nrois.keys()]))\n",
    "\n",
    "# Get range of ROI values\n",
    "roi_range = {ky:np.max(ims[ky])-np.min(ims[ky]) for ky in ims.keys()}\n",
    "print(\"\\nroi_range\")\n",
    "print(\"  \"+\"\\n  \".join([str(ky)+': '+str(roi_range[ky]) for ky in roi_range.keys()]))\n",
    "\n",
    "# Get ROI value datatypes\n",
    "dtypes = {ky:ims[ky].dtype for ky in ims.keys()}\n",
    "print(\"\\nroi_range\")\n",
    "print(\"  \"+\"\\n  \".join([str(ky)+': '+str(dtypes[ky]) for ky in dtypes.keys()]))"
   ]
  },
  {
   "cell_type": "markdown",
   "metadata": {},
   "source": [
    "#### Step 1.3:  Get affine transforms"
   ]
  },
  {
   "cell_type": "code",
   "execution_count": 3,
   "metadata": {
    "collapsed": false
   },
   "outputs": [
    {
     "name": "stdout",
     "output_type": "stream",
     "text": [
      "\n",
      "MNI152 Affine\n",
      "[[ -1.   0.   0.  90.]\n",
      " [  0.  -1.   0.  91.]\n",
      " [  0.   0.   1. -72.]\n",
      " [  0.   0.   0.   1.]]\n",
      "\n",
      "affines\n",
      "1:\n",
      "[[  -1.    0.    0.   90.]\n",
      " [   0.    1.    0. -126.]\n",
      " [   0.    0.    1.  -72.]\n",
      " [   0.    0.    0.    1.]]\n",
      "2:\n",
      "[[ -1.   0.   0.  90.]\n",
      " [  0.  -1.   0.  91.]\n",
      " [  0.   0.   1. -72.]\n",
      " [  0.   0.   0.   1.]]\n",
      "3:\n",
      "[[ -1.   0.   0.  90.]\n",
      " [  0.  -1.   0.  91.]\n",
      " [  0.   0.   1. -72.]\n",
      " [  0.   0.   0.   1.]]\n",
      "4:\n",
      "[[ -1.   0.   0.  90.]\n",
      " [  0.  -1.   0.  91.]\n",
      " [  0.   0.   1. -72.]\n",
      " [  0.   0.   0.   1.]]\n",
      "5:\n",
      "[[ -1.   0.   0.  90.]\n",
      " [  0.  -1.   0.  91.]\n",
      " [  0.   0.   1. -72.]\n",
      " [  0.   0.   0.   1.]]\n"
     ]
    }
   ],
   "source": [
    "print(\"\\nMNI152 Affine\")\n",
    "print(MNI152.get_affine())\n",
    "\n",
    "affines = {ky:desikans[ky].get_affine() for ky in desikans.keys()}\n",
    "print(\"\\naffines\")\n",
    "for idx, val in enumerate(affines.values()):\n",
    "    print(str(idx+1)+\":\\n\"),\n",
    "    print(val)"
   ]
  },
  {
   "cell_type": "markdown",
   "metadata": {},
   "source": [
    "#### Step 1.4: Evaluate overlap with template"
   ]
  },
  {
   "cell_type": "code",
   "execution_count": 27,
   "metadata": {
    "collapsed": false
   },
   "outputs": [
    {
     "name": "stdout",
     "output_type": "stream",
     "text": [
      "8649368\n",
      "47726083\n",
      "92163\n",
      "92163\n",
      "92163\n",
      "92163\n"
     ]
    }
   ],
   "source": [
    "MNI152_im = MNI152.get_data()\n",
    "print(218*182*218)\n",
    "# np.linalg.norm(MNI152_im, )\n",
    "for im in ims:\n",
    "    im = ims[im]\n",
    "    im = im > 0\n",
    "    print(np.sum(np.abs(MNI152_im - im)))"
   ]
  },
  {
   "cell_type": "markdown",
   "metadata": {},
   "source": [
    "## Early signs....\n",
    "\n",
    "- `1` is the original atlas that was created with a poor header and doesn't align in voxel space\n",
    "- `2` is an attempt to normalize this atlas unsuccessfully/align it in image space, but broke the alignment in voxel space\n",
    "- `3-5` are the same as one another, with the true region labels, and align in both image and voxel space. I suspect these are the ones to use moving forward, with potential relabeling of region labels 101-135 to 36-70."
   ]
  },
  {
   "cell_type": "code",
   "execution_count": null,
   "metadata": {
    "collapsed": true
   },
   "outputs": [],
   "source": []
  }
 ],
 "metadata": {
  "kernelspec": {
   "display_name": "Python 2",
   "language": "python",
   "name": "python2"
  },
  "language_info": {
   "codemirror_mode": {
    "name": "ipython",
    "version": 2
   },
   "file_extension": ".py",
   "mimetype": "text/x-python",
   "name": "python",
   "nbconvert_exporter": "python",
   "pygments_lexer": "ipython2",
   "version": "2.7.11"
  }
 },
 "nbformat": 4,
 "nbformat_minor": 0
}
